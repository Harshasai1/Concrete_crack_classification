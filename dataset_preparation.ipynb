{
 "cells": [
  {
   "cell_type": "code",
   "execution_count": 1,
   "metadata": {},
   "outputs": [],
   "source": [
    "# Import required packages\n",
    "import os\n",
    "import shutil"
   ]
  },
  {
   "cell_type": "code",
   "execution_count": 2,
   "metadata": {},
   "outputs": [
    {
     "data": {
      "text/plain": [
       "'\\nStructure:\\n         \\n                      Images\\n                         |\\n                         |____ Train \\n                         |  |_ Positive\\n                         |  |_ Negative\\n                         |\\n                         |\\n                         |____ Test\\n                            |_ Positive\\n                            |_ Negative\\n'"
      ]
     },
     "execution_count": 2,
     "metadata": {},
     "output_type": "execute_result"
    }
   ],
   "source": [
    "'''\n",
    "Structure:\n",
    "         \n",
    "                      Images\n",
    "                         |\n",
    "                         |____ Train \n",
    "                         |  |_ Positive\n",
    "                         |  |_ Negative\n",
    "                         |\n",
    "                         |\n",
    "                         |____ Test\n",
    "                            |_ Positive\n",
    "                            |_ Negative\n",
    "'''"
   ]
  },
  {
   "cell_type": "code",
   "execution_count": 3,
   "metadata": {},
   "outputs": [],
   "source": [
    "# Splitting total samples to train and test sets\n",
    "total_pos_images = len(os.listdir('./Images/Positive'))\n",
    "total_neg_images = len(os.listdir('./Images/Negative'))\n",
    "\n",
    "train_img_pos_count, test_img_pos_count = int(0.8 * total_pos_images), int(0.2 * total_pos_images)\n",
    "train_img_neg_count, test_img_neg_count = int(0.8 * total_neg_images), int(0.2 * total_neg_images)"
   ]
  },
  {
   "cell_type": "code",
   "execution_count": 4,
   "metadata": {},
   "outputs": [
    {
     "name": "stdout",
     "output_type": "stream",
     "text": [
      "*****  Train set : 32000; Positive : 16000; Negative : 16000  *****\n",
      "*****  Test set : 8000; Positive : 4000; Negative : 4000  *****\n"
     ]
    }
   ],
   "source": [
    "# Print number of images (positive, negative) in train and test sets\n",
    "print(f\"*****  Train set : {train_img_pos_count + train_img_neg_count}; Positive : {train_img_pos_count}; Negative : {train_img_neg_count}  *****\")\n",
    "print(f\"*****  Test set : {test_img_pos_count + test_img_neg_count}; Positive : {test_img_pos_count}; Negative : {test_img_neg_count}  *****\")"
   ]
  },
  {
   "cell_type": "code",
   "execution_count": 5,
   "metadata": {},
   "outputs": [],
   "source": [
    "# Listing images in train and test sets\n",
    "train_images_pos = os.listdir('./Images/Positive')[:train_img_pos_count]\n",
    "train_images_neg = os.listdir('./Images/Negative')[:train_img_neg_count]\n",
    "\n",
    "test_images_pos = os.listdir('./Images/Positive')[train_img_pos_count : ]\n",
    "test_images_neg = os.listdir('./Images/Negative')[train_img_neg_count : ]"
   ]
  },
  {
   "cell_type": "code",
   "execution_count": 6,
   "metadata": {},
   "outputs": [],
   "source": [
    "# Verify images count in train and test sets\n",
    "assert(len(train_images_pos) == len(train_images_neg))\n",
    "assert(len(test_images_pos) == len(test_images_neg))"
   ]
  },
  {
   "cell_type": "code",
   "execution_count": 7,
   "metadata": {},
   "outputs": [],
   "source": [
    "# Copy positive images to train set\n",
    "os.mkdir(\"./Train\")\n",
    "os.mkdir(\"./Train/Positive\")\n",
    "train_source_pos = \"./Images/Positive/\"\n",
    "train_dest_pos = \"./Train/Positive\"\n",
    "\n",
    "for img in train_images_pos:\n",
    "    shutil.copy(train_source_pos + img, train_dest_pos)\n",
    "    \n",
    "    \n",
    "# Copy negative images to train set\n",
    "os.mkdir(\"./Train/Negative\")\n",
    "train_source_neg = \"./Images/Negative/\"\n",
    "train_dest_neg = \"./Train/Negative\"\n",
    "\n",
    "for img in train_images_neg:\n",
    "    shutil.copy(train_source_neg + img, train_dest_neg)\n",
    "        \n",
    "    \n",
    "    \n",
    "# Copy positive images to test set\n",
    "os.mkdir(\"./Test\")\n",
    "os.mkdir(\"./Test/Positive\")\n",
    "test_source_pos = \"./Images/Positive/\"\n",
    "test_dest_pos = \"./Test/Positive\"\n",
    "\n",
    "for img in test_images_pos:\n",
    "    shutil.copy(test_source_pos + img, test_dest_pos)\n",
    "    \n",
    "    \n",
    "# Copy negative images to test set\n",
    "os.mkdir(\"./Test/Negative\")\n",
    "test_source_neg = \"./Images/Negative/\"\n",
    "test_dest_neg = \"./Test/Negative\"\n",
    "\n",
    "for img in test_images_neg:\n",
    "    shutil.copy(test_source_neg + img, test_dest_neg)"
   ]
  }
 ],
 "metadata": {
  "kernelspec": {
   "display_name": "Python 3",
   "language": "python",
   "name": "python3"
  },
  "language_info": {
   "codemirror_mode": {
    "name": "ipython",
    "version": 3
   },
   "file_extension": ".py",
   "mimetype": "text/x-python",
   "name": "python",
   "nbconvert_exporter": "python",
   "pygments_lexer": "ipython3",
   "version": "3.7.3"
  }
 },
 "nbformat": 4,
 "nbformat_minor": 2
}
